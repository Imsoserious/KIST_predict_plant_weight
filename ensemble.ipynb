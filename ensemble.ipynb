{
 "cells": [
  {
   "cell_type": "code",
   "execution_count": 3,
   "id": "0f419dfd-14cd-44b9-a725-3a836e39b64f",
   "metadata": {},
   "outputs": [],
   "source": [
    "import pandas as pd"
   ]
  },
  {
   "cell_type": "markdown",
   "id": "35e94002-ed37-4177-82fe-04bf5404301e",
   "metadata": {},
   "source": [
    "# Ensemble"
   ]
  },
  {
   "cell_type": "code",
   "execution_count": 4,
   "id": "2e626c13-3ebe-4e41-83ea-ca139412b4c1",
   "metadata": {
    "tags": []
   },
   "outputs": [],
   "source": [
    "# 3개 제출 파일 앙상블\n",
    "res_sf = pd.read_csv('./submission/submit_res50_5fold_shuffle.csv')\n",
    "res_curr = pd.read_csv('./submission/submit_res50_5fold_curr.csv')\n",
    "seres_curr = pd.read_csv('./submission/submit_seres50_5fold_curr.csv')\n",
    "submission = pd.read_csv('./sample_submission.csv')\n",
    "\n",
    "submission['leaf_weight'] = (res_curr['leaf_weight'] + res_sf['leaf_weight'] + seres_curr['leaf_weight']) / 3\n",
    "submission.to_csv('./submission/submit_res_curr-res_sf-seres_curr.csv', index=False)"
   ]
  },
  {
   "cell_type": "code",
   "execution_count": null,
   "id": "77c7c929-27af-44b9-b68a-e9399d6a5ac3",
   "metadata": {},
   "outputs": [],
   "source": []
  }
 ],
 "metadata": {
  "kernelspec": {
   "display_name": "Python 3",
   "language": "python",
   "name": "python3"
  },
  "language_info": {
   "codemirror_mode": {
    "name": "ipython",
    "version": 3
   },
   "file_extension": ".py",
   "mimetype": "text/x-python",
   "name": "python",
   "nbconvert_exporter": "python",
   "pygments_lexer": "ipython3",
   "version": "3.7.9"
  }
 },
 "nbformat": 4,
 "nbformat_minor": 5
}
