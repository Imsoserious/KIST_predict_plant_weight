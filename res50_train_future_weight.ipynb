{
 "cells": [
  {
   "cell_type": "markdown",
   "id": "72ab04b1-ceeb-42f9-bd60-b47ab0b27d09",
   "metadata": {},
   "source": [
    "## Import"
   ]
  },
  {
   "cell_type": "code",
   "execution_count": 1,
   "id": "5b9f99a6-eeeb-4286-822e-545cdba4d2b0",
   "metadata": {},
   "outputs": [],
   "source": [
    "import numpy as np\n",
    "import random\n",
    "import os\n",
    "import math\n",
    "\n",
    "from glob import glob\n",
    "import pandas as pd\n",
    "import matplotlib.pyplot as plt\n",
    "import cv2\n",
    "from tqdm.auto import tqdm\n",
    "\n",
    "import torch\n",
    "import torch.nn as nn\n",
    "import torch.nn.functional as F\n",
    "from torch.utils.data import DataLoader, Dataset\n",
    "from torch.optim import lr_scheduler, Adam\n",
    "\n",
    "import torchvision.models as models\n",
    "from torchvision import transforms\n",
    "from albumentations.pytorch.transforms import ToTensorV2\n",
    "from albumentations import (\n",
    "    HorizontalFlip, VerticalFlip, ShiftScaleRotate, Transpose, Compose, Normalize, Resize, RandomBrightnessContrast )\n",
    "from transformers.optimization import AdamW, get_cosine_schedule_with_warmup\n",
    "from sklearn.model_selection import KFold\n",
    "\n",
    "from efficientnet_pytorch import EfficientNet\n",
    "import timm\n",
    "from sklearn.model_selection import KFold, StratifiedKFold\n",
    "\n",
    "import pickle\n"
   ]
  },
  {
   "cell_type": "code",
   "execution_count": 2,
   "id": "040d8ece-7e6c-4817-a07a-96071dc70d01",
   "metadata": {},
   "outputs": [
    {
     "name": "stdout",
     "output_type": "stream",
     "text": [
      "1.7.1+cu110\n"
     ]
    }
   ],
   "source": [
    "print(torch.__version__)"
   ]
  },
  {
   "cell_type": "code",
   "execution_count": 3,
   "id": "19588b2c-5a38-48ea-bec9-3fd4b63a085d",
   "metadata": {},
   "outputs": [
    {
     "name": "stdout",
     "output_type": "stream",
     "text": [
      "cuda\n"
     ]
    }
   ],
   "source": [
    "device = torch.device('cuda') if torch.cuda.is_available() else torch.device('cpu')\n",
    "print(device)"
   ]
  },
  {
   "cell_type": "markdown",
   "id": "06c7e45f-2426-4916-971c-e6ef34658bbe",
   "metadata": {},
   "source": [
    "## Hyperparameters Setting"
   ]
  },
  {
   "cell_type": "code",
   "execution_count": 4,
   "id": "f863d58c-930e-401e-bae0-0be718fc7ca3",
   "metadata": {},
   "outputs": [],
   "source": [
    "CFG = {\n",
    "    'IMG_SIZE':224,\n",
    "    'EPOCHS':80,\n",
    "    'LEARNING_RATE':1e-3,\n",
    "    'freeze_lv': ('all',0),\n",
    "    'BATCH_SIZE':32,\n",
    "    'log': True,\n",
    "    'SEED':41\n",
    "}"
   ]
  },
  {
   "cell_type": "code",
   "execution_count": 5,
   "id": "495626e3-cbee-44b9-93d3-652b3c263f3c",
   "metadata": {},
   "outputs": [],
   "source": [
    "def NMAE(true, pred):\n",
    "    mae = np.mean(np.abs(true-pred))\n",
    "    score = mae / np.mean(np.abs(true))\n",
    "    return score"
   ]
  },
  {
   "cell_type": "markdown",
   "id": "b37fde17-5082-4ed7-a003-c7bcbbf65ffb",
   "metadata": {},
   "source": [
    "## Fix RandomSeed"
   ]
  },
  {
   "cell_type": "code",
   "execution_count": 6,
   "id": "2900cbf8-79f2-496c-a951-b0a74df86aef",
   "metadata": {},
   "outputs": [],
   "source": [
    "def seed_everything(seed):\n",
    "    random.seed(seed)\n",
    "    os.environ['PYTHONHASHSEED'] = str(seed)\n",
    "    np.random.seed(seed)\n",
    "    torch.manual_seed(seed)\n",
    "    torch.cuda.manual_seed(seed)\n",
    "    torch.backends.cudnn.deterministic = True\n",
    "    torch.backends.cudnn.benchmark = True\n",
    "\n",
    "seed_everything(CFG['SEED']) # Seed 고정"
   ]
  },
  {
   "cell_type": "markdown",
   "id": "7aaad7d5-643e-4ccd-ae32-920a9553b630",
   "metadata": {
    "tags": []
   },
   "source": [
    "## Data Pre-processing"
   ]
  },
  {
   "cell_type": "code",
   "execution_count": 7,
   "id": "a99c54a5-1883-42aa-a07c-ac939b171b18",
   "metadata": {},
   "outputs": [],
   "source": [
    "# 데이터 로드\n",
    "with open('all_img_256.pkl', 'rb') as f:\n",
    "    all_img_list = pickle.load(f)\n",
    "with open('all_label_rm_CASE45-17.pkl', 'rb') as f:\n",
    "    all_label = pickle.load(f)\n",
    "with open('test_img_256.pkl', 'rb') as f:\n",
    "    test_img_list = pickle.load(f)"
   ]
  },
  {
   "cell_type": "code",
   "execution_count": 8,
   "id": "5acad1af-a745-4513-82df-90a45f82dde2",
   "metadata": {},
   "outputs": [],
   "source": [
    "if CFG['log']:\n",
    "    all_label = list(np.log1p(all_label))"
   ]
  },
  {
   "cell_type": "markdown",
   "id": "5af7e345-7445-4717-909c-2a2e0a4e8993",
   "metadata": {
    "tags": []
   },
   "source": [
    "## CustomDataset"
   ]
  },
  {
   "cell_type": "code",
   "execution_count": 9,
   "id": "10b24583-9c39-47df-84b3-f606ffdf5852",
   "metadata": {},
   "outputs": [],
   "source": [
    "class CustomDataset(Dataset):\n",
    "    def __init__(self, img_path_list, label_list, train_mode=True, transforms=None):\n",
    "        self.transforms = transforms\n",
    "        self.train_mode = train_mode\n",
    "        self.img_path_list = img_path_list\n",
    "        self.label_list = label_list\n",
    "\n",
    "    def __getitem__(self, index):\n",
    "        img_path = self.img_path_list[index]\n",
    "        # Get image data\n",
    "        #image = cv2.imread(img_path)\n",
    "        image = img_path\n",
    "        if self.transforms is not None:\n",
    "            image = self.transforms(image=image)['image'] \n",
    "\n",
    "        if self.train_mode:\n",
    "            label = self.label_list[index]\n",
    "            return image, label\n",
    "        else:\n",
    "            return image\n",
    "    \n",
    "    def __len__(self):\n",
    "        return len(self.img_path_list)"
   ]
  },
  {
   "cell_type": "code",
   "execution_count": 10,
   "id": "352f1a75-a858-4a10-bccf-c56afce6a2a3",
   "metadata": {},
   "outputs": [],
   "source": [
    "################################################################\n",
    "train_transform = Compose([\n",
    "                      Transpose(p=0.5),\n",
    "                      HorizontalFlip(p=0.5),\n",
    "                      VerticalFlip(p=0.5),\n",
    "                      ShiftScaleRotate(p=0.5),\n",
    "                      RandomBrightnessContrast(brightness_limit=(-0.1,0.1), contrast_limit=(-0.1, 0.1), p=0.5),\n",
    "                      Resize(CFG['IMG_SIZE'], CFG['IMG_SIZE']),\n",
    "                      Normalize(mean=[0.485, 0.456, 0.406], std=[0.229, 0.224, 0.225], max_pixel_value=255.0, p=1.0),\n",
    "                      ToTensorV2(p=1.0),\n",
    "                    ], p=1.)\n",
    "\n",
    "test_transform = Compose([\n",
    "                      Resize(CFG['IMG_SIZE'], CFG['IMG_SIZE']),\n",
    "                      Normalize(mean=[0.485, 0.456, 0.406], std=[0.229, 0.224, 0.225], max_pixel_value=255.0, p=1.0),\n",
    "                      ToTensorV2(p=1.0),\n",
    "                    ], p=1.)"
   ]
  },
  {
   "cell_type": "markdown",
   "id": "6e04e913-7a5c-4e20-a9ad-2ad1089f16dd",
   "metadata": {},
   "source": [
    "## Define Model Architecture"
   ]
  },
  {
   "cell_type": "code",
   "execution_count": 11,
   "id": "6e47b99b-1130-4740-888a-97bd783dc353",
   "metadata": {
    "tags": []
   },
   "outputs": [],
   "source": [
    "def count_parameters(model):\n",
    "    total_params = 0\n",
    "    for name, parameter in model.named_parameters():\n",
    "        if not parameter.requires_grad: \n",
    "            continue\n",
    "        param = parameter.numel()\n",
    "        total_params+=param\n",
    "    print(f\"Total Trainable Params: {total_params}\")\n",
    "    return total_params"
   ]
  },
  {
   "cell_type": "code",
   "execution_count": 12,
   "id": "ef324e7e-5619-4925-adb4-b84fdf7bfe96",
   "metadata": {},
   "outputs": [],
   "source": [
    "class CNNRegressor(torch.nn.Module):\n",
    "    def __init__(self):\n",
    "        super(CNNRegressor, self).__init__()\n",
    "        self.model = models.resnet50(pretrained=True)\n",
    "        \n",
    "        num_ftrs = self.model.fc.in_features\n",
    "        self.model.fc = nn.Linear(num_ftrs, 1)\n",
    "        \n",
    "        count_parameters(self.model)\n",
    "    def forward(self, inputs):\n",
    "        output = self.model(inputs)\n",
    "        return output"
   ]
  },
  {
   "cell_type": "markdown",
   "id": "629903e0-7438-4494-bef0-1db1db28f4b2",
   "metadata": {
    "tags": []
   },
   "source": [
    "## Train"
   ]
  },
  {
   "cell_type": "code",
   "execution_count": 13,
   "id": "e462f95f-cf3c-4b78-84b7-ef50e4690c1b",
   "metadata": {},
   "outputs": [],
   "source": [
    "def train(model, optimizer, train_loader, vali_loader, scheduler, device, fold):\n",
    "    model.to(device)\n",
    "    train_losses = []\n",
    "    vali_losses = []\n",
    "    test_losses = []\n",
    "    # Loss Function\n",
    "    criterion = nn.L1Loss().to(device) # L1Loss, SmoothL1Loss\n",
    "    #criterion = NMAELoss().to(device)\n",
    "    best_nmae = 9999\n",
    "    best_mae = 9999\n",
    "    scaler = torch.cuda.amp.GradScaler()\n",
    "    \n",
    "    for epoch in range(1,CFG[\"EPOCHS\"]+1):\n",
    "        model.train()\n",
    "        train_loss = []\n",
    "        for img, label in (iter(train_loader)):\n",
    "            img, label = img.float().to(device), label.float().to(device)\n",
    "            \n",
    "            optimizer.zero_grad()\n",
    "\n",
    "            # Data -> Model -> Output\n",
    "            logit = model(img)\n",
    "            # Calc loss\n",
    "            loss = criterion(logit.squeeze(1), label)\n",
    "\n",
    "            # backpropagation\n",
    "            scaler.scale(loss).backward()\n",
    "            scaler.step(optimizer)\n",
    "            scaler.update()  \n",
    "            \n",
    "            train_loss.append(loss.item())\n",
    "            \n",
    "        if scheduler is not None:\n",
    "            scheduler.step()\n",
    "            \n",
    "        # Evaluation Validation set\n",
    "        vali_mae, vali_nmae = validation(model, vali_loader, criterion, device, best_mae)\n",
    "        train_losses.append(np.mean(train_loss))\n",
    "        vali_losses.append(vali_nmae)\n",
    "        print(f'Epoch [{epoch}] Train MAE : [{np.mean(train_loss):.5f}] \\\n",
    "        Validation MAE : [{vali_mae:.5f}] Validation NMAE : [{vali_nmae:.5f}]\\n')\n",
    "        \n",
    "        # Model Saved\n",
    "        if best_mae > vali_mae:\n",
    "            best_mae = vali_mae\n",
    "            torch.save(model.state_dict(), './saved/res50_fold{}_shuffle.pth'.format(fold))\n",
    "            print('Model Saved.')\n",
    "            \n",
    "    plt.plot(train_losses, label = 'trn')\n",
    "    plt.plot(vali_losses, label = 'vali')\n",
    "    plt.legend(loc='upper right')\n",
    "    plt.show()"
   ]
  },
  {
   "cell_type": "code",
   "execution_count": 14,
   "id": "38eb2190-6eac-4398-85ac-4f94f8fb8b97",
   "metadata": {},
   "outputs": [],
   "source": [
    "def validation(model, vali_loader, criterion, device, best_mae, test=False):\n",
    "    model.eval() # Evaluation\n",
    "    vali_loss = []\n",
    "    model_pred = []\n",
    "    label_true = []\n",
    "    with torch.no_grad():\n",
    "        for img, label in (iter(vali_loader)):\n",
    "            img, label = img.float().to(device), label.float().to(device)\n",
    "\n",
    "            logit = model(img)\n",
    "            loss = criterion(logit.squeeze(1), label)\n",
    "            \n",
    "            vali_loss.append(loss.item())\n",
    "            \n",
    "            logit = logit.squeeze(1).detach().cpu()\n",
    "            label = label.detach().cpu()\n",
    "            label_true.extend(label.tolist())\n",
    "            model_pred.extend(logit.tolist())\n",
    "            \n",
    "    vali_mae_loss = np.mean(vali_loss)\n",
    "    if CFG['log']:\n",
    "        vali_nmae_loss = NMAE(np.expm1(np.array(label_true)), np.expm1(np.array(model_pred)))\n",
    "        diff = np.abs(np.expm1(np.array(label_true)) - np.expm1(np.array(model_pred)))\n",
    "    else:\n",
    "        vali_nmae_loss = NMAE(np.array(label_true), np.array(model_pred))\n",
    "        diff = (np.array(label_true) - np.array(model_pred))\n",
    "    \n",
    "    \n",
    "    if best_mae > vali_mae_loss:\n",
    "        plt.figure(figsize=(30,2))\n",
    "        plt.plot(diff)   \n",
    "        plt.axhline(y=0.1*100, color='black')\n",
    "        plt.axhline(y=0.2*100, color='black')\n",
    "        plt.axhline(y=0.3*100, color='black')\n",
    "        plt.axhline(y=0.4*100, color='black')\n",
    "        plt.axhline(y=0.5*100, color='black')\n",
    "        if CFG['log']:\n",
    "            plt.axhline(y=np.expm1(np.mean(label_true)), color='red')\n",
    "        else:\n",
    "            plt.axhline(y=np.mean(label_true), color='red')\n",
    "        ax_twin = plt.twinx()\n",
    "        if CFG['log']:\n",
    "            ax_twin.plot(np.expm1(np.array(label_true)), alpha=0.5)   \n",
    "        else:\n",
    "            ax_twin.plot(np.array(label_true), alpha=0.5)   \n",
    "    plt.show()\n",
    "    return vali_mae_loss, vali_nmae_loss"
   ]
  },
  {
   "cell_type": "code",
   "execution_count": 15,
   "id": "b65e188f-e46d-4cd3-9da6-f94da941cd3e",
   "metadata": {},
   "outputs": [],
   "source": [
    "def validation(model, vali_loader, criterion, device, best_mae, test=False):\n",
    "    model.eval() # Evaluation\n",
    "    vali_loss = []\n",
    "    model_pred = []\n",
    "    label_true = []\n",
    "    with torch.no_grad():\n",
    "        for img, label in (iter(vali_loader)):\n",
    "            img, label = img.float().to(device), label.float().to(device)\n",
    "\n",
    "            logit = model(img)\n",
    "            loss = criterion(logit.squeeze(1), label)\n",
    "            \n",
    "            vali_loss.append(loss.item())\n",
    "            \n",
    "            logit = logit.squeeze(1).detach().cpu()\n",
    "            label = label.detach().cpu()\n",
    "            label_true.extend(label.tolist())\n",
    "            model_pred.extend(logit.tolist())\n",
    "            \n",
    "    vali_mae_loss = np.mean(vali_loss)\n",
    "    if CFG['log']:\n",
    "        vali_nmae_loss = NMAE(np.expm1(np.array(label_true)), np.expm1(np.array(model_pred)))\n",
    "        diff = np.abs(np.expm1(np.array(label_true)) - np.expm1(np.array(model_pred)))\n",
    "    else:\n",
    "        vali_nmae_loss = NMAE(np.array(label_true), np.array(model_pred))\n",
    "        diff = (np.array(label_true) - np.array(model_pred))\n",
    "    \n",
    "    \n",
    "    if best_mae > vali_mae_loss:\n",
    "        plt.figure(figsize=(30,2))\n",
    "        plt.plot(diff)   \n",
    "        plt.axhline(y=0.1*100, color='black')\n",
    "        plt.axhline(y=0.2*100, color='black')\n",
    "        plt.axhline(y=0.3*100, color='black')\n",
    "        plt.axhline(y=0.4*100, color='black')\n",
    "        plt.axhline(y=0.5*100, color='black')\n",
    "        if CFG['log']:\n",
    "            plt.axhline(y=np.expm1(np.mean(label_true)), color='red')\n",
    "        else:\n",
    "            plt.axhline(y=np.mean(label_true), color='red')\n",
    "        ax_twin = plt.twinx()\n",
    "        if CFG['log']:\n",
    "            ax_twin.plot(np.expm1(np.array(label_true)), alpha=0.5)   \n",
    "        else:\n",
    "            ax_twin.plot(np.array(label_true), alpha=0.5)   \n",
    "    plt.show()\n",
    "    return vali_mae_loss, vali_nmae_loss"
   ]
  },
  {
   "cell_type": "markdown",
   "id": "c87bb28e-f574-43a0-a242-1ba3d34d0656",
   "metadata": {
    "tags": []
   },
   "source": [
    "## Run!!"
   ]
  },
  {
   "cell_type": "code",
   "execution_count": null,
   "id": "abccec2a-8629-41f7-a262-2555d5487dec",
   "metadata": {
    "tags": []
   },
   "outputs": [
    {
     "name": "stdout",
     "output_type": "stream",
     "text": [
      "################################################################################\n",
      "fold: 0\n",
      "Total Trainable Params: 23510081\n"
     ]
    },
    {
     "name": "stderr",
     "output_type": "stream",
     "text": [
      "C:\\Users\\user\\miniconda3\\lib\\site-packages\\transformers\\optimization.py:309: FutureWarning: This implementation of AdamW is deprecated and will be removed in a future version. Use the PyTorch implementation torch.optim.AdamW instead, or set `no_deprecation_warning=True` to disable this warning\n",
      "  FutureWarning,\n"
     ]
    },
    {
     "name": "stdout",
     "output_type": "stream",
     "text": [
      "total_steps:  3180\n",
      "warmup_steps:  318\n"
     ]
    }
   ],
   "source": [
    "list_idx = list(np.arange(0,len(all_img_list)))\n",
    "\n",
    "kf = KFold(n_splits=5, shuffle=True, random_state=CFG['SEED'])\n",
    "for fold, (train_idx, valid_idx) in enumerate(kf.split(list_idx)):\n",
    "    print(\"#\"*80)\n",
    "    print(\"fold: {}\".format(fold))\n",
    "    train_img_list = [all_img_list[i] for i in train_idx]\n",
    "    train_label = [all_label[i] for i in train_idx]\n",
    "\n",
    "    vali_img_list = [all_img_list[i] for i in valid_idx]\n",
    "    vali_label = [all_label[i] for i in valid_idx]\n",
    "    \n",
    "    # Get Dataloader\n",
    "    train_dataset = CustomDataset(train_img_list, train_label, train_mode=True, transforms=train_transform)\n",
    "    train_loader = DataLoader(train_dataset, batch_size = CFG['BATCH_SIZE'], shuffle=True, num_workers=0)\n",
    "\n",
    "    vali_dataset = CustomDataset(vali_img_list, vali_label, train_mode=True, transforms=test_transform)\n",
    "    vali_loader = DataLoader(vali_dataset, batch_size = CFG['BATCH_SIZE'], shuffle=False, num_workers=0)\n",
    "    \n",
    "    model = CNNRegressor().to(device)\n",
    "\n",
    "    optimizer = AdamW(model.parameters(), lr=CFG['LEARNING_RATE'])\n",
    "    \n",
    "    total_steps = int(len(train_dataset)*CFG['EPOCHS']/(CFG['BATCH_SIZE']))\n",
    "    warmup_ratio = 0.1\n",
    "    warmup_steps = int(total_steps * warmup_ratio) # warmup_steps = 1149\n",
    "    print('total_steps: ', total_steps)\n",
    "    print('warmup_steps: ', warmup_steps)\n",
    "    scheduler = get_cosine_schedule_with_warmup(optimizer, num_warmup_steps=warmup_steps, num_training_steps=total_steps)\n",
    "    train(model, optimizer, train_loader, vali_loader, scheduler, device, fold)"
   ]
  },
  {
   "cell_type": "markdown",
   "id": "660aa9ae-6aaf-47fc-8ed4-eca154466544",
   "metadata": {
    "tags": []
   },
   "source": [
    "## Inference"
   ]
  },
  {
   "cell_type": "code",
   "execution_count": null,
   "id": "0e55d732-3cd1-4034-a568-8cce6f29f993",
   "metadata": {},
   "outputs": [],
   "source": [
    "def predict(model, test_loader, device):\n",
    "    model.eval()\n",
    "    model_pred = []\n",
    "    with torch.no_grad():\n",
    "        for img in tqdm(iter(test_loader)):\n",
    "            img = img.float().to(device)\n",
    "\n",
    "            pred_logit = model(img)\n",
    "            pred_logit = pred_logit.squeeze(1).detach().cpu()\n",
    "\n",
    "            model_pred.extend(pred_logit.tolist())\n",
    "    return model_pred\n",
    "\n",
    "def predict_val(model, vali_loader, device):\n",
    "    model.eval() # Evaluation\n",
    "    vali_loss = []\n",
    "    model_pred = []\n",
    "    label_true = []\n",
    "    with torch.no_grad():\n",
    "        for img, label in tqdm(iter(vali_loader)):\n",
    "            img, label = img.float().to(device), label.float().to(device)\n",
    "\n",
    "            logit = model(img)\n",
    "            logit = logit.squeeze(1).detach().cpu()\n",
    "            label = label.detach().cpu()\n",
    "            label_true.extend(label.tolist())\n",
    "            model_pred.extend(logit.tolist())\n",
    "    return model_pred, label_true"
   ]
  },
  {
   "cell_type": "code",
   "execution_count": null,
   "id": "b1ee67e0-daba-4471-8f97-c5506dbfc990",
   "metadata": {},
   "outputs": [],
   "source": [
    "\n",
    "test_dataset = CustomDataset(test_img_list, None, train_mode=False, transforms=test_transform)\n",
    "test_loader = DataLoader(test_dataset, batch_size = CFG['BATCH_SIZE'], shuffle=False, num_workers=0)\n",
    "pred_all = []\n",
    "for fold in range(kf.get_n_splits(list_idx)):\n",
    "    # Validation Score가 가장 뛰어난 모델을 불러옵니다.\n",
    "    checkpoint = torch.load('./saved/res50_fold{}_shuffle.pth'.format(fold))\n",
    "    model = CNNRegressor().to(device)\n",
    "\n",
    "    model.load_state_dict(checkpoint)\n",
    "\n",
    "    # Inference\n",
    "    preds = predict(model, test_loader, device)\n",
    "    if CFG['log']:\n",
    "        preds = np.expm1(preds)\n",
    "    pred_all.append(preds)\n",
    "preds = np.array(pred_all).mean(axis=0)"
   ]
  },
  {
   "cell_type": "markdown",
   "id": "eb00479c-a650-4b38-bd21-d4c1018ba57e",
   "metadata": {
    "tags": []
   },
   "source": [
    "## Submission"
   ]
  },
  {
   "cell_type": "code",
   "execution_count": null,
   "id": "d169965e-8066-464e-b755-9a2db0d018b6",
   "metadata": {},
   "outputs": [],
   "source": [
    "submission = pd.read_csv('./sample_submission.csv')\n",
    "submission['leaf_weight'] = preds\n",
    "\n",
    "submission.to_csv('./submission/submit_res50_5fold_shuffle.csv', index=False)"
   ]
  },
  {
   "cell_type": "code",
   "execution_count": null,
   "id": "cd6c9691-9ff2-4bcc-b0bb-d30937e72c91",
   "metadata": {},
   "outputs": [],
   "source": []
  }
 ],
 "metadata": {
  "kernelspec": {
   "display_name": "Python 3",
   "language": "python",
   "name": "python3"
  },
  "language_info": {
   "codemirror_mode": {
    "name": "ipython",
    "version": 3
   },
   "file_extension": ".py",
   "mimetype": "text/x-python",
   "name": "python",
   "nbconvert_exporter": "python",
   "pygments_lexer": "ipython3",
   "version": "3.7.9"
  }
 },
 "nbformat": 4,
 "nbformat_minor": 5
}
